{
  "nbformat": 4,
  "nbformat_minor": 0,
  "metadata": {
    "colab": {
      "provenance": [],
      "include_colab_link": true
    },
    "kernelspec": {
      "name": "python3",
      "display_name": "Python 3"
    },
    "language_info": {
      "name": "python"
    }
  },
  "cells": [
    {
      "cell_type": "markdown",
      "metadata": {
        "id": "view-in-github",
        "colab_type": "text"
      },
      "source": [
        "<a href=\"https://colab.research.google.com/github/geedoubledee/data620_week10assignment/blob/main/DATA620_Week10Assignment_GDavis_BDavidoff.ipynb\" target=\"_parent\"><img src=\"https://colab.research.google.com/assets/colab-badge.svg\" alt=\"Open In Colab\"/></a>"
      ]
    },
    {
      "cell_type": "markdown",
      "source": [
        "# DATA620: Week 10 Assignment\n",
        "#### by Glen Davis and Brett Davidoff"
      ],
      "metadata": {
        "id": "b7xyLAEMa_XQ"
      }
    },
    {
      "cell_type": "code",
      "execution_count": 105,
      "metadata": {
        "id": "Em-Yfzyhasos"
      },
      "outputs": [],
      "source": [
        "import chardet\n",
        "import matplotlib.pyplot as plt\n",
        "import nltk\n",
        "from nltk.corpus import stopwords\n",
        "from nltk.probability import FreqDist\n",
        "nltk.download('stopwords', quiet = True)\n",
        "nltk.download('punkt', quiet = True)\n",
        "nltk.download('words', quiet = True)\n",
        "nltk.download('averaged_perceptron_tagger', quiet = True)\n",
        "nltk.download('maxent_ne_chunker', quiet = True)\n",
        "import numpy as np\n",
        "import pandas as pd\n",
        "import re\n",
        "import requests\n",
        "from sklearn.model_selection import train_test_split\n",
        "from sklearn.feature_extraction import DictVectorizer\n",
        "from sklearn.naive_bayes import GaussianNB\n",
        "from sklearn.ensemble import RandomForestClassifier\n",
        "from sklearn.metrics import classification_report\n",
        "import textwrap as tw"
      ]
    },
    {
      "cell_type": "markdown",
      "source": [
        "We load [a dataset of documents classified as either real or fake news](https://www.kaggle.com/datasets/iamrahulthorat/fakenews-csv)."
      ],
      "metadata": {
        "id": "wb_sMR4VbQJb"
      }
    },
    {
      "cell_type": "code",
      "source": [
        "url1 = \"https://raw.githubusercontent.com/geedoubledee/data620_week10assignment/main/fakenews.csv\"\n",
        "resp = requests.get(url1)\n",
        "print(chardet.detect(resp.content))"
      ],
      "metadata": {
        "colab": {
          "base_uri": "https://localhost:8080/"
        },
        "id": "3Vu_TnBWbkQS",
        "outputId": "bfa088d1-55cb-41d8-e960-5f09464e447a"
      },
      "execution_count": 106,
      "outputs": [
        {
          "output_type": "stream",
          "name": "stdout",
          "text": [
            "{'encoding': 'MacRoman', 'confidence': 0.6407593328656029, 'language': ''}\n"
          ]
        }
      ]
    },
    {
      "cell_type": "markdown",
      "source": [
        "Unlike most .csv files, the source file's encoding appears to be \"MacRoman\" rather than \"UTF-8.\" So we specify that encoding when we read the .csv file. Below are the first five lines of the dataset."
      ],
      "metadata": {
        "id": "a1KisCyVY2Cn"
      }
    },
    {
      "cell_type": "code",
      "source": [
        "fakenews_df = pd.read_csv(url1, encoding = \"mac_roman\")\n",
        "fakenews_df.head()"
      ],
      "metadata": {
        "colab": {
          "base_uri": "https://localhost:8080/",
          "height": 206
        },
        "id": "P7Pzohn_XD1K",
        "outputId": "9c29fda7-6d8b-4c93-e034-f807861242b7"
      },
      "execution_count": 107,
      "outputs": [
        {
          "output_type": "execute_result",
          "data": {
            "text/plain": [
              "                                                text  label\n",
              "0  Get the latest from TODAY Sign up for our news...      1\n",
              "1  2d  Conan On The Funeral Trump Will Be Invited...      1\n",
              "2  It‚Äôs safe to say that Instagram Stories has ...      0\n",
              "3  Much like a certain Amazon goddess with a lass...      0\n",
              "4  At a time when the perfect outfit is just one ...      0"
            ],
            "text/html": [
              "\n",
              "  <div id=\"df-f9a7e823-ceda-4be9-b0d0-5b72bf848b97\" class=\"colab-df-container\">\n",
              "    <div>\n",
              "<style scoped>\n",
              "    .dataframe tbody tr th:only-of-type {\n",
              "        vertical-align: middle;\n",
              "    }\n",
              "\n",
              "    .dataframe tbody tr th {\n",
              "        vertical-align: top;\n",
              "    }\n",
              "\n",
              "    .dataframe thead th {\n",
              "        text-align: right;\n",
              "    }\n",
              "</style>\n",
              "<table border=\"1\" class=\"dataframe\">\n",
              "  <thead>\n",
              "    <tr style=\"text-align: right;\">\n",
              "      <th></th>\n",
              "      <th>text</th>\n",
              "      <th>label</th>\n",
              "    </tr>\n",
              "  </thead>\n",
              "  <tbody>\n",
              "    <tr>\n",
              "      <th>0</th>\n",
              "      <td>Get the latest from TODAY Sign up for our news...</td>\n",
              "      <td>1</td>\n",
              "    </tr>\n",
              "    <tr>\n",
              "      <th>1</th>\n",
              "      <td>2d  Conan On The Funeral Trump Will Be Invited...</td>\n",
              "      <td>1</td>\n",
              "    </tr>\n",
              "    <tr>\n",
              "      <th>2</th>\n",
              "      <td>It‚Äôs safe to say that Instagram Stories has ...</td>\n",
              "      <td>0</td>\n",
              "    </tr>\n",
              "    <tr>\n",
              "      <th>3</th>\n",
              "      <td>Much like a certain Amazon goddess with a lass...</td>\n",
              "      <td>0</td>\n",
              "    </tr>\n",
              "    <tr>\n",
              "      <th>4</th>\n",
              "      <td>At a time when the perfect outfit is just one ...</td>\n",
              "      <td>0</td>\n",
              "    </tr>\n",
              "  </tbody>\n",
              "</table>\n",
              "</div>\n",
              "    <div class=\"colab-df-buttons\">\n",
              "\n",
              "  <div class=\"colab-df-container\">\n",
              "    <button class=\"colab-df-convert\" onclick=\"convertToInteractive('df-f9a7e823-ceda-4be9-b0d0-5b72bf848b97')\"\n",
              "            title=\"Convert this dataframe to an interactive table.\"\n",
              "            style=\"display:none;\">\n",
              "\n",
              "  <svg xmlns=\"http://www.w3.org/2000/svg\" height=\"24px\" viewBox=\"0 -960 960 960\">\n",
              "    <path d=\"M120-120v-720h720v720H120Zm60-500h600v-160H180v160Zm220 220h160v-160H400v160Zm0 220h160v-160H400v160ZM180-400h160v-160H180v160Zm440 0h160v-160H620v160ZM180-180h160v-160H180v160Zm440 0h160v-160H620v160Z\"/>\n",
              "  </svg>\n",
              "    </button>\n",
              "\n",
              "  <style>\n",
              "    .colab-df-container {\n",
              "      display:flex;\n",
              "      gap: 12px;\n",
              "    }\n",
              "\n",
              "    .colab-df-convert {\n",
              "      background-color: #E8F0FE;\n",
              "      border: none;\n",
              "      border-radius: 50%;\n",
              "      cursor: pointer;\n",
              "      display: none;\n",
              "      fill: #1967D2;\n",
              "      height: 32px;\n",
              "      padding: 0 0 0 0;\n",
              "      width: 32px;\n",
              "    }\n",
              "\n",
              "    .colab-df-convert:hover {\n",
              "      background-color: #E2EBFA;\n",
              "      box-shadow: 0px 1px 2px rgba(60, 64, 67, 0.3), 0px 1px 3px 1px rgba(60, 64, 67, 0.15);\n",
              "      fill: #174EA6;\n",
              "    }\n",
              "\n",
              "    .colab-df-buttons div {\n",
              "      margin-bottom: 4px;\n",
              "    }\n",
              "\n",
              "    [theme=dark] .colab-df-convert {\n",
              "      background-color: #3B4455;\n",
              "      fill: #D2E3FC;\n",
              "    }\n",
              "\n",
              "    [theme=dark] .colab-df-convert:hover {\n",
              "      background-color: #434B5C;\n",
              "      box-shadow: 0px 1px 3px 1px rgba(0, 0, 0, 0.15);\n",
              "      filter: drop-shadow(0px 1px 2px rgba(0, 0, 0, 0.3));\n",
              "      fill: #FFFFFF;\n",
              "    }\n",
              "  </style>\n",
              "\n",
              "    <script>\n",
              "      const buttonEl =\n",
              "        document.querySelector('#df-f9a7e823-ceda-4be9-b0d0-5b72bf848b97 button.colab-df-convert');\n",
              "      buttonEl.style.display =\n",
              "        google.colab.kernel.accessAllowed ? 'block' : 'none';\n",
              "\n",
              "      async function convertToInteractive(key) {\n",
              "        const element = document.querySelector('#df-f9a7e823-ceda-4be9-b0d0-5b72bf848b97');\n",
              "        const dataTable =\n",
              "          await google.colab.kernel.invokeFunction('convertToInteractive',\n",
              "                                                    [key], {});\n",
              "        if (!dataTable) return;\n",
              "\n",
              "        const docLinkHtml = 'Like what you see? Visit the ' +\n",
              "          '<a target=\"_blank\" href=https://colab.research.google.com/notebooks/data_table.ipynb>data table notebook</a>'\n",
              "          + ' to learn more about interactive tables.';\n",
              "        element.innerHTML = '';\n",
              "        dataTable['output_type'] = 'display_data';\n",
              "        await google.colab.output.renderOutput(dataTable, element);\n",
              "        const docLink = document.createElement('div');\n",
              "        docLink.innerHTML = docLinkHtml;\n",
              "        element.appendChild(docLink);\n",
              "      }\n",
              "    </script>\n",
              "  </div>\n",
              "\n",
              "\n",
              "<div id=\"df-de7eb9e5-0de3-41db-92d3-02118a911246\">\n",
              "  <button class=\"colab-df-quickchart\" onclick=\"quickchart('df-de7eb9e5-0de3-41db-92d3-02118a911246')\"\n",
              "            title=\"Suggest charts\"\n",
              "            style=\"display:none;\">\n",
              "\n",
              "<svg xmlns=\"http://www.w3.org/2000/svg\" height=\"24px\"viewBox=\"0 0 24 24\"\n",
              "     width=\"24px\">\n",
              "    <g>\n",
              "        <path d=\"M19 3H5c-1.1 0-2 .9-2 2v14c0 1.1.9 2 2 2h14c1.1 0 2-.9 2-2V5c0-1.1-.9-2-2-2zM9 17H7v-7h2v7zm4 0h-2V7h2v10zm4 0h-2v-4h2v4z\"/>\n",
              "    </g>\n",
              "</svg>\n",
              "  </button>\n",
              "\n",
              "<style>\n",
              "  .colab-df-quickchart {\n",
              "      --bg-color: #E8F0FE;\n",
              "      --fill-color: #1967D2;\n",
              "      --hover-bg-color: #E2EBFA;\n",
              "      --hover-fill-color: #174EA6;\n",
              "      --disabled-fill-color: #AAA;\n",
              "      --disabled-bg-color: #DDD;\n",
              "  }\n",
              "\n",
              "  [theme=dark] .colab-df-quickchart {\n",
              "      --bg-color: #3B4455;\n",
              "      --fill-color: #D2E3FC;\n",
              "      --hover-bg-color: #434B5C;\n",
              "      --hover-fill-color: #FFFFFF;\n",
              "      --disabled-bg-color: #3B4455;\n",
              "      --disabled-fill-color: #666;\n",
              "  }\n",
              "\n",
              "  .colab-df-quickchart {\n",
              "    background-color: var(--bg-color);\n",
              "    border: none;\n",
              "    border-radius: 50%;\n",
              "    cursor: pointer;\n",
              "    display: none;\n",
              "    fill: var(--fill-color);\n",
              "    height: 32px;\n",
              "    padding: 0;\n",
              "    width: 32px;\n",
              "  }\n",
              "\n",
              "  .colab-df-quickchart:hover {\n",
              "    background-color: var(--hover-bg-color);\n",
              "    box-shadow: 0 1px 2px rgba(60, 64, 67, 0.3), 0 1px 3px 1px rgba(60, 64, 67, 0.15);\n",
              "    fill: var(--button-hover-fill-color);\n",
              "  }\n",
              "\n",
              "  .colab-df-quickchart-complete:disabled,\n",
              "  .colab-df-quickchart-complete:disabled:hover {\n",
              "    background-color: var(--disabled-bg-color);\n",
              "    fill: var(--disabled-fill-color);\n",
              "    box-shadow: none;\n",
              "  }\n",
              "\n",
              "  .colab-df-spinner {\n",
              "    border: 2px solid var(--fill-color);\n",
              "    border-color: transparent;\n",
              "    border-bottom-color: var(--fill-color);\n",
              "    animation:\n",
              "      spin 1s steps(1) infinite;\n",
              "  }\n",
              "\n",
              "  @keyframes spin {\n",
              "    0% {\n",
              "      border-color: transparent;\n",
              "      border-bottom-color: var(--fill-color);\n",
              "      border-left-color: var(--fill-color);\n",
              "    }\n",
              "    20% {\n",
              "      border-color: transparent;\n",
              "      border-left-color: var(--fill-color);\n",
              "      border-top-color: var(--fill-color);\n",
              "    }\n",
              "    30% {\n",
              "      border-color: transparent;\n",
              "      border-left-color: var(--fill-color);\n",
              "      border-top-color: var(--fill-color);\n",
              "      border-right-color: var(--fill-color);\n",
              "    }\n",
              "    40% {\n",
              "      border-color: transparent;\n",
              "      border-right-color: var(--fill-color);\n",
              "      border-top-color: var(--fill-color);\n",
              "    }\n",
              "    60% {\n",
              "      border-color: transparent;\n",
              "      border-right-color: var(--fill-color);\n",
              "    }\n",
              "    80% {\n",
              "      border-color: transparent;\n",
              "      border-right-color: var(--fill-color);\n",
              "      border-bottom-color: var(--fill-color);\n",
              "    }\n",
              "    90% {\n",
              "      border-color: transparent;\n",
              "      border-bottom-color: var(--fill-color);\n",
              "    }\n",
              "  }\n",
              "</style>\n",
              "\n",
              "  <script>\n",
              "    async function quickchart(key) {\n",
              "      const quickchartButtonEl =\n",
              "        document.querySelector('#' + key + ' button');\n",
              "      quickchartButtonEl.disabled = true;  // To prevent multiple clicks.\n",
              "      quickchartButtonEl.classList.add('colab-df-spinner');\n",
              "      try {\n",
              "        const charts = await google.colab.kernel.invokeFunction(\n",
              "            'suggestCharts', [key], {});\n",
              "      } catch (error) {\n",
              "        console.error('Error during call to suggestCharts:', error);\n",
              "      }\n",
              "      quickchartButtonEl.classList.remove('colab-df-spinner');\n",
              "      quickchartButtonEl.classList.add('colab-df-quickchart-complete');\n",
              "    }\n",
              "    (() => {\n",
              "      let quickchartButtonEl =\n",
              "        document.querySelector('#df-de7eb9e5-0de3-41db-92d3-02118a911246 button');\n",
              "      quickchartButtonEl.style.display =\n",
              "        google.colab.kernel.accessAllowed ? 'block' : 'none';\n",
              "    })();\n",
              "  </script>\n",
              "</div>\n",
              "\n",
              "    </div>\n",
              "  </div>\n"
            ],
            "application/vnd.google.colaboratory.intrinsic+json": {
              "type": "dataframe",
              "variable_name": "fakenews_df",
              "summary": "{\n  \"name\": \"fakenews_df\",\n  \"rows\": 4986,\n  \"fields\": [\n    {\n      \"column\": \"text\",\n      \"properties\": {\n        \"dtype\": \"string\",\n        \"num_unique_values\": 4729,\n        \"samples\": [\n          \"In the seven months since his abrupt separation from wife Angelina Jolie, Brad Pitt has kept a low profile. It all changed this week when his first interview post the split appeared in GQ.  Pitt had been accused of beating his 15-year-old son Maddox on a plane in September, which prompted Jolie to file for divorce. The FBI and Child Services investigated him for child abuse. He was romantically linked to his Allied co-star Marion Cotillard, which she immediately denied.  The GQ spread, apart from the interview, includes a massive 8-day photoshoot of Pitt, 53, \\u201a\\u00c4\\u00fatumbling through\\u201a\\u00c4\\u00f9 three national parks, and a music video.  But according to the BBC, it was all a planned move by Pitt to correct his faltering image. In the interview, the actor admitted to having an alcohol problem, and how it might have caused the problems in his life. He said he is undergoing therapy and is on a road to recovery after coming to terms with the \\u201a\\u00c4\\u00faself-inflicted\\u201a\\u00c4\\u00f9 situation he\\u201a\\u00c4\\u00f4s in.  But instead of being called out for his behaviour, which, by his own admission is the reason his family was jarringly \\u201a\\u00c4\\u00faripped apart\\u201a\\u00c4\\u00f9 the Internet has sided with him.  An article titled \\u201a\\u00c4\\u00faWhy Brad Pitt won the Jolie-Pitt war by throwing himself on his sword\\u201a\\u00c4\\u00f9 published on E! said, \\u201a\\u00c4\\u00faThrowing caution to the wind - and simultaneously capitalizing on 30 years of goodwill built up in Hollywood - Brad went for it, translating what he\\u201a\\u00c4\\u00f4s gleaned from his newfound love of therapy into a painfully self-aware, self-deprecating, oft-poetic and at times rambling discourse on a charmed life that veered off course and what he\\u201a\\u00c4\\u00f4s doing to right the ship.\\u201a\\u00c4\\u00f9  Vanity Fair said, \\u201a\\u00c4\\u00faPitt clearly studied the lay-it-all-bare, heart-on-my-sleeve, owning-my-flaws interview section of the post-celebrity-divorce playbook. Learning from his tumultuous year is a theme of the talk, especially regarding the divorce, which is still under way. He comes across candid, remorseful, and keen to let the world know that he\\u201a\\u00c4\\u00f4s doing a lot of work on himself.\\u201a\\u00c4\\u00f9  And Huffington Post completes the trifecta of acceptance: \\u201a\\u00c4\\u00faPeople like (Brad) do so much to give a face to the addiction crisis that claims so many lives. Thank you for your honesty, your courage, and your willingness to open up about your recovery.\\u201a\\u00c4\\u00f9  The BBC quotes PR guru Mark Borkowski as saying that Pitt would have \\u201a\\u00c4\\u00faTotal copy approval, total picture approval, total headline approval,\\u201a\\u00c4\\u00f9 on the interview.  \\u201a\\u00c4\\u00faBut of course the timing is calculated,\\u201a\\u00c4\\u00f9 Borkowski continues. \\u201a\\u00c4\\u00faThe language is calculated. Everything is calculated. And everything is a gamble.\\u201a\\u00c4\\u00f9  \\u201a\\u00c4\\u00faA lot of people prefer to stay before the waterline and not do it. He\\u201a\\u00c4\\u00f4s taken a massive risk and I can think of many who just wouldn\\u201a\\u00c4\\u00f4t go this far.\\u201a\\u00c4\\u00f9  Follow @htshowbiz for more  First Published: May 05, 2017 10:06 IST\",\n          \"With the sudden departure of Bebe Neuwirth\\u201a\\u00c4\\u00f4s Nadine Tolliver, there is an opening at the State Department on CBS\\u201a\\u00c4\\u00f4 Madam Secretary. And now Grey\\u201a\\u00c4\\u00f4s Anatomy alum Sara Ramirez has joined the cast as a new series regular.  Ramirez will play Kat Sandoval, a brilliant political strategist, legendary in D.C. for her talent and for abruptly dropping out of politics until Elizabeth (T\\u221a\\u00a9a Leoni) manages to coax her back into the State Department. CBS says Ramirez\\u201a\\u00c4\\u00f4s character will be introduced the November 19 episode.  \\u201a\\u00c4\\u00faWe\\u201a\\u00c4\\u00f4re very excited that Sara is joining the cast,\\u201a\\u00c4\\u00f9 said Barbara Hall, executive producer and series creator. \\u201a\\u00c4\\u00faShe brings a fresh perspective and a fun, energetic quality to the State Department staff.\\u201a\\u00c4\\u00f9  \\u201a\\u00c4\\u00faWe are thrilled to have Sara join the Madam Secretary State Department team,\\u201a\\u00c4\\u00f9 said Lori McCreary, executive producer. \\u201a\\u00c4\\u00faFrom the moment she walked on set with her talent, intellect and spirit, she became part of the family!\\u201a\\u00c4\\u00f9  This is Ramirez first series regular TV role since her departure last year from ABC\\u201a\\u00c4\\u00f4s Grey\\u201a\\u00c4\\u00f4s Anatomy, where she appeared for over a decade as Dr. Callie Torres. She\\u201a\\u00c4\\u00f4s currently the voice of Queen Miranda on Disney Jr.\\u201a\\u00c4\\u00f4s hit animated series Sofia the First and the voice of Mam\\u221a\\u00b0 Calaca in Vampirina. Ramirez previously won a Tony Award for her performance in Monty Python\\u201a\\u00c4\\u00f4s Spamalot.  In addition to Leoni, Madam Secretary stars Tim Daly, Zeljko Ivanek, Keith Carradine, Sebastian Arcelus, Patina Miller, Geoffrey Arend, Erich Bergen, Kathrine Herzer, Wallis Currie-Wood and Evan Roe.  Barbara Hall, Lori McCreary, David Grae, Eric Stoltz and Morgan Freeman are executive producers for CBS Television Studios in association with Revelations Entertainment.  Madam Secretary airs Sundays at 10 PM on CBS.\",\n          \"The real reason Jennifer Aniston and Justin Theroux split  In news that shocked the world and left pretty much all of us believing that love is dead, Jennifer Aniston and Justin Theroux are over.  The estranged couple said in a joint statement to the The Associated Press on Feb. 15, 2018, \\\"Normally we would do this privately, but given that the gossip industry cannot resist an opportunity to speculate and invent, we wanted to convey the truth directly. Whatever else is printed about us that is not directly from us, is someone else's fictional narrative. Above all, we are determined to maintain the deep respect and love that we have for one another.\\\"  They were a couple since 2011, but were only married two years before pulling the plug on the relationship. What the heck happened to this seemingly happy husband and wife?\"\n        ],\n        \"semantic_type\": \"\",\n        \"description\": \"\"\n      }\n    },\n    {\n      \"column\": \"label\",\n      \"properties\": {\n        \"dtype\": \"number\",\n        \"std\": 0,\n        \"min\": 0,\n        \"max\": 1,\n        \"num_unique_values\": 2,\n        \"samples\": [\n          0,\n          1\n        ],\n        \"semantic_type\": \"\",\n        \"description\": \"\"\n      }\n    }\n  ]\n}"
            }
          },
          "metadata": {},
          "execution_count": 107
        }
      ]
    },
    {
      "cell_type": "markdown",
      "source": [
        "A value of 1 in the label column indicates fake news, whereas a value of 0 indicates real news. We recode these indicators as \"fake\" and \"real.\""
      ],
      "metadata": {
        "id": "89_f9zrJMyqO"
      }
    },
    {
      "cell_type": "code",
      "source": [
        "fakenews_df.loc[fakenews_df.label == 0, \"label\"] = \"real\"\n",
        "fakenews_df.loc[fakenews_df.label == 1, \"label\"] = \"fake\"\n",
        "fakenews_df.head()"
      ],
      "metadata": {
        "colab": {
          "base_uri": "https://localhost:8080/",
          "height": 206
        },
        "id": "OZxsNgQFM8S_",
        "outputId": "db4806d0-af96-4900-d27b-dd0a48591ecc"
      },
      "execution_count": 108,
      "outputs": [
        {
          "output_type": "execute_result",
          "data": {
            "text/plain": [
              "                                                text label\n",
              "0  Get the latest from TODAY Sign up for our news...  fake\n",
              "1  2d  Conan On The Funeral Trump Will Be Invited...  fake\n",
              "2  It‚Äôs safe to say that Instagram Stories has ...  real\n",
              "3  Much like a certain Amazon goddess with a lass...  real\n",
              "4  At a time when the perfect outfit is just one ...  real"
            ],
            "text/html": [
              "\n",
              "  <div id=\"df-29a9c4cc-019c-4dbb-846e-548b43fab50f\" class=\"colab-df-container\">\n",
              "    <div>\n",
              "<style scoped>\n",
              "    .dataframe tbody tr th:only-of-type {\n",
              "        vertical-align: middle;\n",
              "    }\n",
              "\n",
              "    .dataframe tbody tr th {\n",
              "        vertical-align: top;\n",
              "    }\n",
              "\n",
              "    .dataframe thead th {\n",
              "        text-align: right;\n",
              "    }\n",
              "</style>\n",
              "<table border=\"1\" class=\"dataframe\">\n",
              "  <thead>\n",
              "    <tr style=\"text-align: right;\">\n",
              "      <th></th>\n",
              "      <th>text</th>\n",
              "      <th>label</th>\n",
              "    </tr>\n",
              "  </thead>\n",
              "  <tbody>\n",
              "    <tr>\n",
              "      <th>0</th>\n",
              "      <td>Get the latest from TODAY Sign up for our news...</td>\n",
              "      <td>fake</td>\n",
              "    </tr>\n",
              "    <tr>\n",
              "      <th>1</th>\n",
              "      <td>2d  Conan On The Funeral Trump Will Be Invited...</td>\n",
              "      <td>fake</td>\n",
              "    </tr>\n",
              "    <tr>\n",
              "      <th>2</th>\n",
              "      <td>It‚Äôs safe to say that Instagram Stories has ...</td>\n",
              "      <td>real</td>\n",
              "    </tr>\n",
              "    <tr>\n",
              "      <th>3</th>\n",
              "      <td>Much like a certain Amazon goddess with a lass...</td>\n",
              "      <td>real</td>\n",
              "    </tr>\n",
              "    <tr>\n",
              "      <th>4</th>\n",
              "      <td>At a time when the perfect outfit is just one ...</td>\n",
              "      <td>real</td>\n",
              "    </tr>\n",
              "  </tbody>\n",
              "</table>\n",
              "</div>\n",
              "    <div class=\"colab-df-buttons\">\n",
              "\n",
              "  <div class=\"colab-df-container\">\n",
              "    <button class=\"colab-df-convert\" onclick=\"convertToInteractive('df-29a9c4cc-019c-4dbb-846e-548b43fab50f')\"\n",
              "            title=\"Convert this dataframe to an interactive table.\"\n",
              "            style=\"display:none;\">\n",
              "\n",
              "  <svg xmlns=\"http://www.w3.org/2000/svg\" height=\"24px\" viewBox=\"0 -960 960 960\">\n",
              "    <path d=\"M120-120v-720h720v720H120Zm60-500h600v-160H180v160Zm220 220h160v-160H400v160Zm0 220h160v-160H400v160ZM180-400h160v-160H180v160Zm440 0h160v-160H620v160ZM180-180h160v-160H180v160Zm440 0h160v-160H620v160Z\"/>\n",
              "  </svg>\n",
              "    </button>\n",
              "\n",
              "  <style>\n",
              "    .colab-df-container {\n",
              "      display:flex;\n",
              "      gap: 12px;\n",
              "    }\n",
              "\n",
              "    .colab-df-convert {\n",
              "      background-color: #E8F0FE;\n",
              "      border: none;\n",
              "      border-radius: 50%;\n",
              "      cursor: pointer;\n",
              "      display: none;\n",
              "      fill: #1967D2;\n",
              "      height: 32px;\n",
              "      padding: 0 0 0 0;\n",
              "      width: 32px;\n",
              "    }\n",
              "\n",
              "    .colab-df-convert:hover {\n",
              "      background-color: #E2EBFA;\n",
              "      box-shadow: 0px 1px 2px rgba(60, 64, 67, 0.3), 0px 1px 3px 1px rgba(60, 64, 67, 0.15);\n",
              "      fill: #174EA6;\n",
              "    }\n",
              "\n",
              "    .colab-df-buttons div {\n",
              "      margin-bottom: 4px;\n",
              "    }\n",
              "\n",
              "    [theme=dark] .colab-df-convert {\n",
              "      background-color: #3B4455;\n",
              "      fill: #D2E3FC;\n",
              "    }\n",
              "\n",
              "    [theme=dark] .colab-df-convert:hover {\n",
              "      background-color: #434B5C;\n",
              "      box-shadow: 0px 1px 3px 1px rgba(0, 0, 0, 0.15);\n",
              "      filter: drop-shadow(0px 1px 2px rgba(0, 0, 0, 0.3));\n",
              "      fill: #FFFFFF;\n",
              "    }\n",
              "  </style>\n",
              "\n",
              "    <script>\n",
              "      const buttonEl =\n",
              "        document.querySelector('#df-29a9c4cc-019c-4dbb-846e-548b43fab50f button.colab-df-convert');\n",
              "      buttonEl.style.display =\n",
              "        google.colab.kernel.accessAllowed ? 'block' : 'none';\n",
              "\n",
              "      async function convertToInteractive(key) {\n",
              "        const element = document.querySelector('#df-29a9c4cc-019c-4dbb-846e-548b43fab50f');\n",
              "        const dataTable =\n",
              "          await google.colab.kernel.invokeFunction('convertToInteractive',\n",
              "                                                    [key], {});\n",
              "        if (!dataTable) return;\n",
              "\n",
              "        const docLinkHtml = 'Like what you see? Visit the ' +\n",
              "          '<a target=\"_blank\" href=https://colab.research.google.com/notebooks/data_table.ipynb>data table notebook</a>'\n",
              "          + ' to learn more about interactive tables.';\n",
              "        element.innerHTML = '';\n",
              "        dataTable['output_type'] = 'display_data';\n",
              "        await google.colab.output.renderOutput(dataTable, element);\n",
              "        const docLink = document.createElement('div');\n",
              "        docLink.innerHTML = docLinkHtml;\n",
              "        element.appendChild(docLink);\n",
              "      }\n",
              "    </script>\n",
              "  </div>\n",
              "\n",
              "\n",
              "<div id=\"df-a3bc7e7f-533f-4adb-a70f-4e9e890c6932\">\n",
              "  <button class=\"colab-df-quickchart\" onclick=\"quickchart('df-a3bc7e7f-533f-4adb-a70f-4e9e890c6932')\"\n",
              "            title=\"Suggest charts\"\n",
              "            style=\"display:none;\">\n",
              "\n",
              "<svg xmlns=\"http://www.w3.org/2000/svg\" height=\"24px\"viewBox=\"0 0 24 24\"\n",
              "     width=\"24px\">\n",
              "    <g>\n",
              "        <path d=\"M19 3H5c-1.1 0-2 .9-2 2v14c0 1.1.9 2 2 2h14c1.1 0 2-.9 2-2V5c0-1.1-.9-2-2-2zM9 17H7v-7h2v7zm4 0h-2V7h2v10zm4 0h-2v-4h2v4z\"/>\n",
              "    </g>\n",
              "</svg>\n",
              "  </button>\n",
              "\n",
              "<style>\n",
              "  .colab-df-quickchart {\n",
              "      --bg-color: #E8F0FE;\n",
              "      --fill-color: #1967D2;\n",
              "      --hover-bg-color: #E2EBFA;\n",
              "      --hover-fill-color: #174EA6;\n",
              "      --disabled-fill-color: #AAA;\n",
              "      --disabled-bg-color: #DDD;\n",
              "  }\n",
              "\n",
              "  [theme=dark] .colab-df-quickchart {\n",
              "      --bg-color: #3B4455;\n",
              "      --fill-color: #D2E3FC;\n",
              "      --hover-bg-color: #434B5C;\n",
              "      --hover-fill-color: #FFFFFF;\n",
              "      --disabled-bg-color: #3B4455;\n",
              "      --disabled-fill-color: #666;\n",
              "  }\n",
              "\n",
              "  .colab-df-quickchart {\n",
              "    background-color: var(--bg-color);\n",
              "    border: none;\n",
              "    border-radius: 50%;\n",
              "    cursor: pointer;\n",
              "    display: none;\n",
              "    fill: var(--fill-color);\n",
              "    height: 32px;\n",
              "    padding: 0;\n",
              "    width: 32px;\n",
              "  }\n",
              "\n",
              "  .colab-df-quickchart:hover {\n",
              "    background-color: var(--hover-bg-color);\n",
              "    box-shadow: 0 1px 2px rgba(60, 64, 67, 0.3), 0 1px 3px 1px rgba(60, 64, 67, 0.15);\n",
              "    fill: var(--button-hover-fill-color);\n",
              "  }\n",
              "\n",
              "  .colab-df-quickchart-complete:disabled,\n",
              "  .colab-df-quickchart-complete:disabled:hover {\n",
              "    background-color: var(--disabled-bg-color);\n",
              "    fill: var(--disabled-fill-color);\n",
              "    box-shadow: none;\n",
              "  }\n",
              "\n",
              "  .colab-df-spinner {\n",
              "    border: 2px solid var(--fill-color);\n",
              "    border-color: transparent;\n",
              "    border-bottom-color: var(--fill-color);\n",
              "    animation:\n",
              "      spin 1s steps(1) infinite;\n",
              "  }\n",
              "\n",
              "  @keyframes spin {\n",
              "    0% {\n",
              "      border-color: transparent;\n",
              "      border-bottom-color: var(--fill-color);\n",
              "      border-left-color: var(--fill-color);\n",
              "    }\n",
              "    20% {\n",
              "      border-color: transparent;\n",
              "      border-left-color: var(--fill-color);\n",
              "      border-top-color: var(--fill-color);\n",
              "    }\n",
              "    30% {\n",
              "      border-color: transparent;\n",
              "      border-left-color: var(--fill-color);\n",
              "      border-top-color: var(--fill-color);\n",
              "      border-right-color: var(--fill-color);\n",
              "    }\n",
              "    40% {\n",
              "      border-color: transparent;\n",
              "      border-right-color: var(--fill-color);\n",
              "      border-top-color: var(--fill-color);\n",
              "    }\n",
              "    60% {\n",
              "      border-color: transparent;\n",
              "      border-right-color: var(--fill-color);\n",
              "    }\n",
              "    80% {\n",
              "      border-color: transparent;\n",
              "      border-right-color: var(--fill-color);\n",
              "      border-bottom-color: var(--fill-color);\n",
              "    }\n",
              "    90% {\n",
              "      border-color: transparent;\n",
              "      border-bottom-color: var(--fill-color);\n",
              "    }\n",
              "  }\n",
              "</style>\n",
              "\n",
              "  <script>\n",
              "    async function quickchart(key) {\n",
              "      const quickchartButtonEl =\n",
              "        document.querySelector('#' + key + ' button');\n",
              "      quickchartButtonEl.disabled = true;  // To prevent multiple clicks.\n",
              "      quickchartButtonEl.classList.add('colab-df-spinner');\n",
              "      try {\n",
              "        const charts = await google.colab.kernel.invokeFunction(\n",
              "            'suggestCharts', [key], {});\n",
              "      } catch (error) {\n",
              "        console.error('Error during call to suggestCharts:', error);\n",
              "      }\n",
              "      quickchartButtonEl.classList.remove('colab-df-spinner');\n",
              "      quickchartButtonEl.classList.add('colab-df-quickchart-complete');\n",
              "    }\n",
              "    (() => {\n",
              "      let quickchartButtonEl =\n",
              "        document.querySelector('#df-a3bc7e7f-533f-4adb-a70f-4e9e890c6932 button');\n",
              "      quickchartButtonEl.style.display =\n",
              "        google.colab.kernel.accessAllowed ? 'block' : 'none';\n",
              "    })();\n",
              "  </script>\n",
              "</div>\n",
              "\n",
              "    </div>\n",
              "  </div>\n"
            ],
            "application/vnd.google.colaboratory.intrinsic+json": {
              "type": "dataframe",
              "variable_name": "fakenews_df",
              "summary": "{\n  \"name\": \"fakenews_df\",\n  \"rows\": 4986,\n  \"fields\": [\n    {\n      \"column\": \"text\",\n      \"properties\": {\n        \"dtype\": \"string\",\n        \"num_unique_values\": 4729,\n        \"samples\": [\n          \"In the seven months since his abrupt separation from wife Angelina Jolie, Brad Pitt has kept a low profile. It all changed this week when his first interview post the split appeared in GQ.  Pitt had been accused of beating his 15-year-old son Maddox on a plane in September, which prompted Jolie to file for divorce. The FBI and Child Services investigated him for child abuse. He was romantically linked to his Allied co-star Marion Cotillard, which she immediately denied.  The GQ spread, apart from the interview, includes a massive 8-day photoshoot of Pitt, 53, \\u201a\\u00c4\\u00fatumbling through\\u201a\\u00c4\\u00f9 three national parks, and a music video.  But according to the BBC, it was all a planned move by Pitt to correct his faltering image. In the interview, the actor admitted to having an alcohol problem, and how it might have caused the problems in his life. He said he is undergoing therapy and is on a road to recovery after coming to terms with the \\u201a\\u00c4\\u00faself-inflicted\\u201a\\u00c4\\u00f9 situation he\\u201a\\u00c4\\u00f4s in.  But instead of being called out for his behaviour, which, by his own admission is the reason his family was jarringly \\u201a\\u00c4\\u00faripped apart\\u201a\\u00c4\\u00f9 the Internet has sided with him.  An article titled \\u201a\\u00c4\\u00faWhy Brad Pitt won the Jolie-Pitt war by throwing himself on his sword\\u201a\\u00c4\\u00f9 published on E! said, \\u201a\\u00c4\\u00faThrowing caution to the wind - and simultaneously capitalizing on 30 years of goodwill built up in Hollywood - Brad went for it, translating what he\\u201a\\u00c4\\u00f4s gleaned from his newfound love of therapy into a painfully self-aware, self-deprecating, oft-poetic and at times rambling discourse on a charmed life that veered off course and what he\\u201a\\u00c4\\u00f4s doing to right the ship.\\u201a\\u00c4\\u00f9  Vanity Fair said, \\u201a\\u00c4\\u00faPitt clearly studied the lay-it-all-bare, heart-on-my-sleeve, owning-my-flaws interview section of the post-celebrity-divorce playbook. Learning from his tumultuous year is a theme of the talk, especially regarding the divorce, which is still under way. He comes across candid, remorseful, and keen to let the world know that he\\u201a\\u00c4\\u00f4s doing a lot of work on himself.\\u201a\\u00c4\\u00f9  And Huffington Post completes the trifecta of acceptance: \\u201a\\u00c4\\u00faPeople like (Brad) do so much to give a face to the addiction crisis that claims so many lives. Thank you for your honesty, your courage, and your willingness to open up about your recovery.\\u201a\\u00c4\\u00f9  The BBC quotes PR guru Mark Borkowski as saying that Pitt would have \\u201a\\u00c4\\u00faTotal copy approval, total picture approval, total headline approval,\\u201a\\u00c4\\u00f9 on the interview.  \\u201a\\u00c4\\u00faBut of course the timing is calculated,\\u201a\\u00c4\\u00f9 Borkowski continues. \\u201a\\u00c4\\u00faThe language is calculated. Everything is calculated. And everything is a gamble.\\u201a\\u00c4\\u00f9  \\u201a\\u00c4\\u00faA lot of people prefer to stay before the waterline and not do it. He\\u201a\\u00c4\\u00f4s taken a massive risk and I can think of many who just wouldn\\u201a\\u00c4\\u00f4t go this far.\\u201a\\u00c4\\u00f9  Follow @htshowbiz for more  First Published: May 05, 2017 10:06 IST\",\n          \"With the sudden departure of Bebe Neuwirth\\u201a\\u00c4\\u00f4s Nadine Tolliver, there is an opening at the State Department on CBS\\u201a\\u00c4\\u00f4 Madam Secretary. And now Grey\\u201a\\u00c4\\u00f4s Anatomy alum Sara Ramirez has joined the cast as a new series regular.  Ramirez will play Kat Sandoval, a brilliant political strategist, legendary in D.C. for her talent and for abruptly dropping out of politics until Elizabeth (T\\u221a\\u00a9a Leoni) manages to coax her back into the State Department. CBS says Ramirez\\u201a\\u00c4\\u00f4s character will be introduced the November 19 episode.  \\u201a\\u00c4\\u00faWe\\u201a\\u00c4\\u00f4re very excited that Sara is joining the cast,\\u201a\\u00c4\\u00f9 said Barbara Hall, executive producer and series creator. \\u201a\\u00c4\\u00faShe brings a fresh perspective and a fun, energetic quality to the State Department staff.\\u201a\\u00c4\\u00f9  \\u201a\\u00c4\\u00faWe are thrilled to have Sara join the Madam Secretary State Department team,\\u201a\\u00c4\\u00f9 said Lori McCreary, executive producer. \\u201a\\u00c4\\u00faFrom the moment she walked on set with her talent, intellect and spirit, she became part of the family!\\u201a\\u00c4\\u00f9  This is Ramirez first series regular TV role since her departure last year from ABC\\u201a\\u00c4\\u00f4s Grey\\u201a\\u00c4\\u00f4s Anatomy, where she appeared for over a decade as Dr. Callie Torres. She\\u201a\\u00c4\\u00f4s currently the voice of Queen Miranda on Disney Jr.\\u201a\\u00c4\\u00f4s hit animated series Sofia the First and the voice of Mam\\u221a\\u00b0 Calaca in Vampirina. Ramirez previously won a Tony Award for her performance in Monty Python\\u201a\\u00c4\\u00f4s Spamalot.  In addition to Leoni, Madam Secretary stars Tim Daly, Zeljko Ivanek, Keith Carradine, Sebastian Arcelus, Patina Miller, Geoffrey Arend, Erich Bergen, Kathrine Herzer, Wallis Currie-Wood and Evan Roe.  Barbara Hall, Lori McCreary, David Grae, Eric Stoltz and Morgan Freeman are executive producers for CBS Television Studios in association with Revelations Entertainment.  Madam Secretary airs Sundays at 10 PM on CBS.\",\n          \"The real reason Jennifer Aniston and Justin Theroux split  In news that shocked the world and left pretty much all of us believing that love is dead, Jennifer Aniston and Justin Theroux are over.  The estranged couple said in a joint statement to the The Associated Press on Feb. 15, 2018, \\\"Normally we would do this privately, but given that the gossip industry cannot resist an opportunity to speculate and invent, we wanted to convey the truth directly. Whatever else is printed about us that is not directly from us, is someone else's fictional narrative. Above all, we are determined to maintain the deep respect and love that we have for one another.\\\"  They were a couple since 2011, but were only married two years before pulling the plug on the relationship. What the heck happened to this seemingly happy husband and wife?\"\n        ],\n        \"semantic_type\": \"\",\n        \"description\": \"\"\n      }\n    },\n    {\n      \"column\": \"label\",\n      \"properties\": {\n        \"dtype\": \"category\",\n        \"num_unique_values\": 2,\n        \"samples\": [\n          \"real\",\n          \"fake\"\n        ],\n        \"semantic_type\": \"\",\n        \"description\": \"\"\n      }\n    }\n  ]\n}"
            }
          },
          "metadata": {},
          "execution_count": 108
        }
      ]
    },
    {
      "cell_type": "code",
      "source": [
        "fakenews_df.info()"
      ],
      "metadata": {
        "colab": {
          "base_uri": "https://localhost:8080/"
        },
        "id": "C0KSo0qLXpqi",
        "outputId": "38be4df5-7266-4278-8843-8092d85109ef"
      },
      "execution_count": 109,
      "outputs": [
        {
          "output_type": "stream",
          "name": "stdout",
          "text": [
            "<class 'pandas.core.frame.DataFrame'>\n",
            "RangeIndex: 4986 entries, 0 to 4985\n",
            "Data columns (total 2 columns):\n",
            " #   Column  Non-Null Count  Dtype \n",
            "---  ------  --------------  ----- \n",
            " 0   text    4986 non-null   object\n",
            " 1   label   4986 non-null   object\n",
            "dtypes: object(2)\n",
            "memory usage: 78.0+ KB\n"
          ]
        }
      ]
    },
    {
      "cell_type": "markdown",
      "source": [
        "There are no missing values to address in the dataset. We visualize the distribution of fake vs. real news."
      ],
      "metadata": {
        "id": "CmXeUp-iMS3a"
      }
    },
    {
      "cell_type": "code",
      "source": [
        "x = [\"fake\", \"real\"]\n",
        "y = [fakenews_df[fakenews_df.label == \"fake\"].shape[0],\n",
        "     fakenews_df[fakenews_df.label == \"real\"].shape[0]]\n",
        "fig, ax = plt.subplots()\n",
        "bars = ax.bar(x, y, color = [\"tab:orange\", \"tab:blue\"])\n",
        "ax.set_xlabel(\"Label\")\n",
        "ax.set_ylabel(\"Count\")\n",
        "ax.set_title(\"Distribution of Fake vs. Real News\")\n",
        "def autolabel(bars):\n",
        "    for bar in bars:\n",
        "        height = bar.get_height()\n",
        "        perc_str = str(round(100 * height / len(fakenews_df), 1)) + \"%\"\n",
        "        ax.text(bar.get_x() + bar.get_width()/2., height - 100,\n",
        "                '%s' % perc_str, ha = \"center\", va = \"top\",\n",
        "                color = \"white\", weight = \"bold\", size = 12)\n",
        "autolabel(bars)\n",
        "plt.show()"
      ],
      "metadata": {
        "colab": {
          "base_uri": "https://localhost:8080/",
          "height": 472
        },
        "id": "z8dMMJZUOHhx",
        "outputId": "b1bdc2f3-382a-466c-b0f5-ef45cd4f580f"
      },
      "execution_count": 110,
      "outputs": [
        {
          "output_type": "display_data",
          "data": {
            "text/plain": [
              "<Figure size 640x480 with 1 Axes>"
            ],
            "image/png": "[encoded data removed]"
          },
          "metadata": {}
        }
      ]
    },
    {
      "cell_type": "markdown",
      "source": [
        "There are about 1.5 times as many observations labeled real news as there are observations labeled fake news in the dataset. This is only a slight class imbalance and should not affect the predictive power of the models we develop later.\n",
        "\n",
        "A lot of the data is regarding celebrities, so we want to perform Named Entity Recognition (NER) to aid our analysis. In order to perform NER, we first preprocess the text by splitting it into sentences and tagging the words in each sentence according to their most likely parts of speech."
      ],
      "metadata": {
        "id": "Kt-OCi-VQfXJ"
      }
    },
    {
      "cell_type": "code",
      "source": [
        "def ne_preprocess(doc):\n",
        "    sents = nltk.sent_tokenize(doc)\n",
        "    sents = [nltk.word_tokenize(sent) for sent in sents]\n",
        "    sents = [nltk.pos_tag(sent) for sent in sents]\n",
        "    return sents\n",
        "def tag_sentences(df, col):\n",
        "    text = df.loc[:, col]\n",
        "    df[\"tagged_sents\"] = df.loc[:, col].apply(ne_preprocess)\n",
        "tag_sentences(fakenews_df, \"text\")"
      ],
      "metadata": {
        "id": "ZTfVfNbWNxse"
      },
      "execution_count": 111,
      "outputs": []
    },
    {
      "cell_type": "markdown",
      "source": [
        "Then we perform NER on the tagged sentences and store any recognized entities labeled \"PERSON\" as our first features."
      ],
      "metadata": {
        "id": "yN_iOezfkLIv"
      }
    },
    {
      "cell_type": "code",
      "source": [
        "def get_ne_leaves(tree, label):\n",
        "    return [t.leaves() for t in tree.subtrees(lambda s: s.label() == label)]\n",
        "def ne_recognize(tagged_sents, labels = [\"PERSON\"]):\n",
        "    entities = {}\n",
        "    for lab in labels:\n",
        "        for sent in tagged_sents:\n",
        "            ne_tree = nltk.ne_chunk(sent, binary=False)\n",
        "            ne_leaves = get_ne_leaves(ne_tree, lab)\n",
        "            if len(ne_leaves) > 0:\n",
        "                for leaf in ne_leaves:\n",
        "                    name = \" \".join([partial for partial, pos in leaf])\n",
        "                    entities[name] = lab\n",
        "    return entities\n",
        "def ne_extract(df, col):\n",
        "    df[\"named_entities\"] = df.loc[:, col].apply(ne_recognize)\n",
        "ne_extract(fakenews_df, \"tagged_sents\")\n",
        "def extract_features(df):\n",
        "    features_list = []\n",
        "    for x in df[\"named_entities\"]:\n",
        "        features = {}\n",
        "        for person in x.keys():\n",
        "            features[\"mentions({})\".format(person)] = True\n",
        "        features_list.append(features)\n",
        "    return features_list\n",
        "fakenews_df[\"features\"] = extract_features(fakenews_df)"
      ],
      "metadata": {
        "id": "ypw2zgf-jZEm"
      },
      "execution_count": 112,
      "outputs": []
    },
    {
      "cell_type": "markdown",
      "source": [
        "NER isn't perfect, so it incorrectly labels many non-person entities as people. We are also only interested in celebrities that appear frequently in the dataset. So we look for named entities that occur in 20 or more observations and contain at least one space character (indicating the string is likely composed of a first name and a last name) in hopes of both getting rid of many mislabeled entities and reducing the number of named entity features."
      ],
      "metadata": {
        "id": "4PurBHMwRS-H"
      }
    },
    {
      "cell_type": "code",
      "source": [
        "mentions = fakenews_df[\"features\"].to_list()\n",
        "mentions = [x for d in mentions for x in list(d)]\n",
        "mentions = {key: mentions.count(key) for key in set(mentions)}\n",
        "mentions = dict(sorted(mentions.items(), key = lambda x:x[1], reverse = True))\n",
        "mentions = {key: val for key, val in mentions.items() if re.match(\".*\\s.*\", key)}\n",
        "mentions = {key: val for key, val in mentions.items() if val >= 20}\n",
        "n = len(mentions)\n",
        "print(f\"\\nThere are {n} named entities recognized as people in the dataset that are formatted in a style similar to <first_name>...<last_name>.\\n\")\n",
        "print(\"The 10 most frequent of these entities are:\\n\")\n",
        "wrapped = tw.fill(str(list(mentions.items())[:10]))\n",
        "print(wrapped)"
      ],
      "metadata": {
        "colab": {
          "base_uri": "https://localhost:8080/"
        },
        "id": "8elXsGKGnqmr",
        "outputId": "7ce4d4a5-1713-4bea-ee95-b3961eab52b6"
      },
      "execution_count": 113,
      "outputs": [
        {
          "output_type": "stream",
          "name": "stdout",
          "text": [
            "\n",
            "There are 158 named entities recognized as people in the dataset that are formatted in a style similar to <first_name>...<last_name>.\n",
            "\n",
            "The 10 most frequent of these entities are:\n",
            "\n",
            "[('mentions(Donald Trump)', 238), ('mentions(Brad Pitt)', 183),\n",
            "('mentions(Meghan Markle)', 169), ('mentions(Kanye West)', 157),\n",
            "('mentions(Kim Kardashian)', 154), ('mentions(Justin Bieber)', 146),\n",
            "('mentions(Angelina Jolie)', 129), ('mentions(Selena Gomez)', 122),\n",
            "('mentions(Us Weekly)', 120), ('mentions(Jennifer Aniston)', 120)]\n"
          ]
        }
      ]
    },
    {
      "cell_type": "markdown",
      "source": [
        "We remove any less frequent named entities and those that don't look like they are composed of a first name and a last name from our features."
      ],
      "metadata": {
        "id": "NcFhp3yu45Pr"
      }
    },
    {
      "cell_type": "code",
      "source": [
        "acceptable = list(mentions.keys())\n",
        "def remove_features(row, keep = []):\n",
        "    d = row[\"features\"]\n",
        "    copy = d.copy()\n",
        "    for k in d.keys():\n",
        "        if k not in keep:\n",
        "            del copy[k]\n",
        "    return copy\n",
        "fakenews_df[\"features\"] = fakenews_df.apply(remove_features, keep = acceptable, axis = 1)"
      ],
      "metadata": {
        "id": "3eZM4BoP38rG"
      },
      "execution_count": 114,
      "outputs": []
    },
    {
      "cell_type": "markdown",
      "source": [
        "Now that we have the named entity features we want to use, we turn our attention to the rest of the text in the documents, first eliminating the text we've already identified as named entities and then any stopwords."
      ],
      "metadata": {
        "id": "hOQhUmmI8BQf"
      }
    },
    {
      "cell_type": "code",
      "source": [
        "stop_words = set(stopwords.words('english'))\n",
        "def remove_entities_and_stopwords(text, entities):\n",
        "    tokens = nltk.word_tokenize(text)\n",
        "    filtered_tokens = [token for token in tokens if token not in entities and token.lower() not in stop_words]\n",
        "    return \" \".join(filtered_tokens)\n",
        "# Applying the removal function\n",
        "fakenews_df['cleaned_text'] = fakenews_df.apply(lambda row: remove_entities_and_stopwords(row['text'], row['named_entities'].keys()), axis=1)"
      ],
      "metadata": {
        "id": "q6X4uPuDD6Py"
      },
      "execution_count": 115,
      "outputs": []
    },
    {
      "cell_type": "markdown",
      "source": [
        "We take a look at the most frequent words in the remaining text."
      ],
      "metadata": {
        "id": "Tk8zIq0iRjIz"
      }
    },
    {
      "cell_type": "code",
      "source": [
        "tokens = fakenews_df['cleaned_text'].apply(nltk.word_tokenize)\n",
        "fdist = nltk.FreqDist(w.lower() for entry in tokens for w in entry if w.isalpha())\n",
        "fdist = dict(sorted(fdist.items(), key = lambda x:x[1], reverse = True))\n",
        "print(\"\\nThe 100 most frequent words in the remaining text are:\\n\")\n",
        "wrapped = tw.fill(str(list(fdist.items())[:100]))\n",
        "print(wrapped)"
      ],
      "metadata": {
        "colab": {
          "base_uri": "https://localhost:8080/"
        },
        "id": "5loDQfdb9VQR",
        "outputId": "807ad8bd-46a7-45f2-f5ac-63ffea06de42"
      },
      "execution_count": 116,
      "outputs": [
        {
          "output_type": "stream",
          "name": "stdout",
          "text": [
            "\n",
            "The 100 most frequent words in the remaining text are:\n",
            "\n",
            "[('said', 8598), ('one', 7878), ('new', 7060), ('also', 6823),\n",
            "('time', 6261), ('first', 6256), ('like', 6141), ('people', 5826),\n",
            "('would', 5709), ('show', 4904), ('two', 4646), ('get', 4367),\n",
            "('years', 4086), ('know', 3937), ('year', 3761), ('going', 3692),\n",
            "('back', 3692), ('told', 3666), ('film', 3643), ('family', 3619),\n",
            "('us', 3589), ('love', 3428), ('may', 3365), ('think', 3362), ('life',\n",
            "3340), ('made', 3300), ('season', 3105), ('day', 3095), ('best',\n",
            "3089), ('news', 2992), ('last', 2959), ('want', 2915), ('together',\n",
            "2821), ('even', 2805), ('star', 2722), ('says', 2694), ('really',\n",
            "2681), ('make', 2643), ('could', 2639), ('series', 2602), ('way',\n",
            "2577), ('see', 2536), ('world', 2534), ('well', 2514), ('since',\n",
            "2495), ('got', 2476), ('much', 2417), ('couple', 2335), ('still',\n",
            "2324), ('later', 2276), ('right', 2269), ('million', 2256), ('many',\n",
            "2253), ('go', 2246), ('relationship', 2240), ('video', 2233),\n",
            "('things', 2208), ('york', 2199), ('source', 2193), ('say', 2186),\n",
            "('good', 2182), ('never', 2146), ('work', 2125), ('women', 2114),\n",
            "('wedding', 2112), ('according', 2099), ('president', 2094), ('three',\n",
            "2059), ('take', 2039), ('home', 2019), ('photo', 1999), ('actress',\n",
            "1983), ('children', 1979), ('edit', 1963), ('american', 1943),\n",
            "('music', 1920), ('story', 1910), ('another', 1890), ('night', 1862),\n",
            "('part', 1833), ('role', 1831), ('around', 1823), ('look', 1808),\n",
            "('friends', 1804), ('including', 1802), ('media', 1783), ('little',\n",
            "1734), ('house', 1675), ('big', 1674), ('former', 1670), ('lot',\n",
            "1668), ('next', 1666), ('prince', 1663), ('album', 1656), ('fans',\n",
            "1652), ('released', 1650), ('something', 1634), ('june', 1632),\n",
            "('always', 1626), ('second', 1621)]\n"
          ]
        }
      ]
    },
    {
      "cell_type": "markdown",
      "source": [
        "We limit the words we will use for \"has(word)\" features to the 2500 most frequent ones."
      ],
      "metadata": {
        "id": "L4JolP-sFR9j"
      }
    },
    {
      "cell_type": "code",
      "source": [
        "acceptable = list(fdist)[:2500]"
      ],
      "metadata": {
        "id": "8qhI82EPEay4"
      },
      "execution_count": 117,
      "outputs": []
    },
    {
      "cell_type": "markdown",
      "source": [
        "We also generate features for the counts of non-alphanumeric characters, numeric characters, and total characters within the text."
      ],
      "metadata": {
        "id": "8qql9g2cF-4F"
      }
    },
    {
      "cell_type": "code",
      "source": [
        "def text_features(text, keep):\n",
        "    non_alnum = sum(not char.isalnum() for char in text)\n",
        "    numeric = sum(char.isdigit() for char in text)\n",
        "    total_chars = len(text)\n",
        "    tokenized = nltk.word_tokenize(text)\n",
        "    word_features = {f'has({word})': True for word in tokenized if word in keep}\n",
        "    return {'count(non-alphanumeric)': non_alnum, 'count(numeric)': numeric, 'count(characters)': total_chars, **word_features}\n",
        "\n",
        "# Apply the feature extraction\n",
        "fakenews_df['additional_features'] = fakenews_df['cleaned_text'].apply(text_features, keep = acceptable)"
      ],
      "metadata": {
        "id": "1Sp0aTcuD9Se"
      },
      "execution_count": 118,
      "outputs": []
    },
    {
      "cell_type": "markdown",
      "source": [
        "We combine the features we have developed and refined."
      ],
      "metadata": {
        "id": "hcAZfUo7RqaG"
      }
    },
    {
      "cell_type": "code",
      "source": [
        "def combine_features(row):\n",
        "    combined = row[\"features\"]\n",
        "    combined.update(row[\"additional_features\"])\n",
        "    return combined\n",
        "fakenews_df['combined_features'] = fakenews_df.apply(combine_features, axis=1)"
      ],
      "metadata": {
        "id": "219CJDQiEAhj"
      },
      "execution_count": 119,
      "outputs": []
    },
    {
      "cell_type": "markdown",
      "source": [
        "We train our models."
      ],
      "metadata": {
        "id": "280ssjk5RvHN"
      }
    },
    {
      "cell_type": "code",
      "source": [
        "# Prepare the data\n",
        "X = list(fakenews_df['combined_features'])\n",
        "y = fakenews_df['label'].apply(lambda x: 1 if x == 'fake' else 0)\n",
        "\n",
        "# Vectorizing the feature dictionaries\n",
        "vec = DictVectorizer()\n",
        "X_vec = vec.fit_transform(X).toarray()\n",
        "\n",
        "# Splitting the dataset\n",
        "X_train, X_test, y_train, y_test = train_test_split(X_vec, y, test_size=0.25, random_state=42)\n",
        "\n",
        "# Naive Bayes\n",
        "nb_model = GaussianNB()\n",
        "nb_model.fit(X_train, y_train)\n",
        "y_pred_nb = nb_model.predict(X_test)\n",
        "\n",
        "# Random Forest\n",
        "rf_model = RandomForestClassifier()\n",
        "rf_model.fit(X_train, y_train)\n",
        "y_pred_rf = rf_model.predict(X_test)\n",
        "\n",
        "# Evaluation\n",
        "print(\"Naive Bayes Classification Report:\")\n",
        "print(classification_report(y_test, y_pred_nb))\n",
        "print(\"Random Forest Classification Report:\")\n",
        "print(classification_report(y_test, y_pred_rf))"
      ],
      "metadata": {
        "id": "mrtLr4KjELxj",
        "colab": {
          "base_uri": "https://localhost:8080/"
        },
        "outputId": "ed3fda8c-8eeb-4167-d4d9-75f28814effb"
      },
      "execution_count": 120,
      "outputs": [
        {
          "output_type": "stream",
          "name": "stdout",
          "text": [
            "Naive Bayes Classification Report:\n",
            "              precision    recall  f1-score   support\n",
            "\n",
            "           0       0.69      0.89      0.78       738\n",
            "           1       0.73      0.43      0.54       509\n",
            "\n",
            "    accuracy                           0.70      1247\n",
            "   macro avg       0.71      0.66      0.66      1247\n",
            "weighted avg       0.71      0.70      0.68      1247\n",
            "\n",
            "Random Forest Classification Report:\n",
            "              precision    recall  f1-score   support\n",
            "\n",
            "           0       0.74      0.91      0.82       738\n",
            "           1       0.80      0.54      0.65       509\n",
            "\n",
            "    accuracy                           0.76      1247\n",
            "   macro avg       0.77      0.72      0.73      1247\n",
            "weighted avg       0.76      0.76      0.75      1247\n",
            "\n"
          ]
        }
      ]
    },
    {
      "cell_type": "markdown",
      "source": [
        "The Random Forest model is more accurate than the Naive Bayes model. The 20 most important features in the Random Forest model are:"
      ],
      "metadata": {
        "id": "6NdIy1E5Jy2m"
      }
    },
    {
      "cell_type": "code",
      "source": [
        "# Extract feature importance estimates from the RFC\n",
        "feature_imp = rf_model.feature_importances_\n",
        "\n",
        "# Get feature names from the DictVectorizer\n",
        "feature_names = vec.get_feature_names_out()\n",
        "\n",
        "# Combine names and importances\n",
        "feature_imp = zip(feature_names, feature_imp)\n",
        "feature_imp = sorted(feature_imp, key=lambda x: x[1], reverse=True)\n",
        "\n",
        "# Print top N most important features\n",
        "for feature, importance in feature_imp[:20]:\n",
        "    print(f\"{feature}: {importance}\")\n"
      ],
      "metadata": {
        "colab": {
          "base_uri": "https://localhost:8080/"
        },
        "id": "nN0fC2hkTwPI",
        "outputId": "dfb165bb-473a-4a82-b06d-c756844ccc2a"
      },
      "execution_count": 122,
      "outputs": [
        {
          "output_type": "stream",
          "name": "stdout",
          "text": [
            "has(source): 0.023274238734996476\n",
            "count(characters): 0.0184286057992747\n",
            "count(non-alphanumeric): 0.016727609704304564\n",
            "has(insider): 0.014942363212209393\n",
            "count(numeric): 0.00790281614333773\n",
            "has(notifications): 0.0071116997538740135\n",
            "mentions(Brad Pitt): 0.006492924315817956\n",
            "has(push): 0.005564407166862459\n",
            "has(features): 0.005265713070738007\n",
            "has(told): 0.0039214601620673325\n",
            "mentions(Angelina Jolie): 0.003772217342255993\n",
            "has(season): 0.003645701175037748\n",
            "has(reportedly): 0.0031128517847286872\n",
            "mentions(Donald Trump): 0.0030616590253297023\n",
            "has(divorce): 0.002856426778514583\n",
            "has(romance): 0.0028165505323785446\n",
            "has(series): 0.002816431626662644\n",
            "has(first): 0.002724099026603759\n",
            "has(reports): 0.0026248644426071\n",
            "has(rumors): 0.0025741089538041995\n"
          ]
        }
      ]
    },
    {
      "cell_type": "markdown",
      "source": [
        "As expected, knowing whether particular celebrities were mentioned in an observation was important in predicting fake news observations. Brad Pitt, Angelina Jolie, and Donald Trump all stood out."
      ],
      "metadata": {
        "id": "9B934xnbUG5u"
      }
    }
  ]
}